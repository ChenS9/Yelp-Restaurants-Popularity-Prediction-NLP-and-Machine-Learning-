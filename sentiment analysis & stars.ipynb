{
 "cells": [
  {
   "cell_type": "code",
   "execution_count": 2,
   "metadata": {
    "colab": {
     "base_uri": "https://localhost:8080/",
     "height": 72
    },
    "colab_type": "code",
    "executionInfo": {
     "elapsed": 2489,
     "status": "ok",
     "timestamp": 1589857383441,
     "user": {
      "displayName": "Xinyi Yang",
      "photoUrl": "https://lh3.googleusercontent.com/a-/AOh14GhpJK8CczvJ3W0LpSpJ76Jr_lPTrhpHlCz2mFhO=s64",
      "userId": "12278027156780526256"
     },
     "user_tz": 420
    },
    "id": "XCT6NFPiJDym",
    "outputId": "cc8d1884-345b-4632-aea7-b55e1ad4448b"
   },
   "outputs": [
    {
     "name": "stderr",
     "output_type": "stream",
     "text": [
      "/usr/local/lib/python3.6/dist-packages/statsmodels/tools/_testing.py:19: FutureWarning: pandas.util.testing is deprecated. Use the functions in the public API at pandas.testing instead.\n",
      "  import pandas.util.testing as tm\n"
     ]
    }
   ],
   "source": [
    "import pandas as pd\n",
    "import matplotlib.pyplot as plt\n",
    "%matplotlib inline\n",
    "import seaborn as sns"
   ]
  },
  {
   "cell_type": "code",
   "execution_count": 0,
   "metadata": {
    "colab": {},
    "colab_type": "code",
    "id": "7LprHEZ5JDy3"
   },
   "outputs": [],
   "source": [
    "from textblob import TextBlob"
   ]
  },
  {
   "cell_type": "code",
   "execution_count": 5,
   "metadata": {
    "colab": {
     "base_uri": "https://localhost:8080/",
     "height": 124
    },
    "colab_type": "code",
    "executionInfo": {
     "elapsed": 29883,
     "status": "ok",
     "timestamp": 1589857421116,
     "user": {
      "displayName": "Xinyi Yang",
      "photoUrl": "https://lh3.googleusercontent.com/a-/AOh14GhpJK8CczvJ3W0LpSpJ76Jr_lPTrhpHlCz2mFhO=s64",
      "userId": "12278027156780526256"
     },
     "user_tz": 420
    },
    "id": "pKNGd55OJOpg",
    "outputId": "00b4a7e1-86d1-4fae-a4e0-21870d47ad06"
   },
   "outputs": [
    {
     "name": "stdout",
     "output_type": "stream",
     "text": [
      "Go to this URL in a browser: https://accounts.google.com/o/oauth2/auth?client_id=947318989803-6bn6qk8qdgf4n4g3pfee6491hc0brc4i.apps.googleusercontent.com&redirect_uri=urn%3aietf%3awg%3aoauth%3a2.0%3aoob&response_type=code&scope=email%20https%3a%2f%2fwww.googleapis.com%2fauth%2fdocs.test%20https%3a%2f%2fwww.googleapis.com%2fauth%2fdrive%20https%3a%2f%2fwww.googleapis.com%2fauth%2fdrive.photos.readonly%20https%3a%2f%2fwww.googleapis.com%2fauth%2fpeopleapi.readonly\n",
      "\n",
      "Enter your authorization code:\n",
      "··········\n",
      "Mounted at /content/gdrive\n"
     ]
    }
   ],
   "source": [
    "from google.colab import drive\n",
    "\n",
    "drive.mount('/content/gdrive')"
   ]
  },
  {
   "cell_type": "code",
   "execution_count": 0,
   "metadata": {
    "colab": {},
    "colab_type": "code",
    "id": "o08P8eswJDy8"
   },
   "outputs": [],
   "source": [
    "data=pd.read_csv('/content/gdrive/Shared drives/Yelp Help/Tony Code/yelp_restaurant_review.csv')"
   ]
  },
  {
   "cell_type": "code",
   "execution_count": 13,
   "metadata": {
    "colab": {
     "base_uri": "https://localhost:8080/",
     "height": 295
    },
    "colab_type": "code",
    "executionInfo": {
     "elapsed": 1165,
     "status": "ok",
     "timestamp": 1589858531582,
     "user": {
      "displayName": "Xinyi Yang",
      "photoUrl": "https://lh3.googleusercontent.com/a-/AOh14GhpJK8CczvJ3W0LpSpJ76Jr_lPTrhpHlCz2mFhO=s64",
      "userId": "12278027156780526256"
     },
     "user_tz": 420
    },
    "id": "r3CFOgvgJDzB",
    "outputId": "c7400a69-8e71-47b1-ce71-7c65c1acb317"
   },
   "outputs": [
    {
     "name": "stdout",
     "output_type": "stream",
     "text": [
      "<class 'pandas.core.frame.DataFrame'>\n",
      "RangeIndex: 5056227 entries, 0 to 5056226\n",
      "Data columns (total 9 columns):\n",
      " #   Column       Dtype  \n",
      "---  ------       -----  \n",
      " 0   review_id    object \n",
      " 1   user_id      object \n",
      " 2   business_id  object \n",
      " 3   stars        float64\n",
      " 4   useful       int64  \n",
      " 5   funny        int64  \n",
      " 6   cool         int64  \n",
      " 7   text         object \n",
      " 8   date         object \n",
      "dtypes: float64(1), int64(3), object(5)\n",
      "memory usage: 347.2+ MB\n"
     ]
    }
   ],
   "source": [
    "data.info()"
   ]
  },
  {
   "cell_type": "markdown",
   "metadata": {
    "colab_type": "text",
    "id": "JU33TZvwJDzH"
   },
   "source": [
    "# In-depth analysis"
   ]
  },
  {
   "cell_type": "code",
   "execution_count": 0,
   "metadata": {
    "colab": {},
    "colab_type": "code",
    "id": "rmKooNZZ8Wo0"
   },
   "outputs": [],
   "source": [
    "df=data.copy()"
   ]
  },
  {
   "cell_type": "code",
   "execution_count": 0,
   "metadata": {
    "colab": {},
    "colab_type": "code",
    "id": "ouCWJJoE8JRY"
   },
   "outputs": [],
   "source": [
    "data.drop(columns=['review_id', 'stars', 'useful', 'funny', 'cool', 'date'],inplace=True)"
   ]
  },
  {
   "cell_type": "code",
   "execution_count": 0,
   "metadata": {
    "colab": {},
    "colab_type": "code",
    "id": "RxycfprRJDzd"
   },
   "outputs": [],
   "source": [
    "data['polar'] = data['text'].apply(lambda tweet: TextBlob(str(tweet)).sentiment.polarity)\n",
    "#data['subject'] = data['text'].apply(lambda tweet: TextBlob(str(tweet)).sentiment.subjectivity)"
   ]
  },
  {
   "cell_type": "markdown",
   "metadata": {
    "colab_type": "text",
    "id": "aNnSoqugJDzj"
   },
   "source": [
    "use FacetGrid to see if there’s any relationship between our newly created polarity and subjectivity features and the stars rating."
   ]
  },
  {
   "cell_type": "code",
   "execution_count": 0,
   "metadata": {
    "colab": {},
    "colab_type": "code",
    "id": "ByRQUctNJDzk"
   },
   "outputs": [],
   "source": [
    "fig1 = sns.FacetGrid(data=data, col='stars')\n",
    "fig1.map(plt.hist, 'subject', bins=50)"
   ]
  },
  {
   "cell_type": "code",
   "execution_count": 0,
   "metadata": {
    "colab": {},
    "colab_type": "code",
    "id": "xxtkQVjbJDzo",
    "scrolled": true
   },
   "outputs": [],
   "source": [
    "fig2 = sns.FacetGrid(data=data, col='stars')\n",
    "fig2.map(plt.hist, 'polar', bins=50)"
   ]
  },
  {
   "cell_type": "code",
   "execution_count": 0,
   "metadata": {
    "colab": {},
    "colab_type": "code",
    "id": "O25Q6PK1JDz3"
   },
   "outputs": [],
   "source": [
    "business=data.business_id.value_counts()"
   ]
  },
  {
   "cell_type": "code",
   "execution_count": 0,
   "metadata": {
    "colab": {},
    "colab_type": "code",
    "id": "F1F0glQDJDz7"
   },
   "outputs": [],
   "source": [
    "count_star=data.groupby('business_id').polar.mean()"
   ]
  },
  {
   "cell_type": "code",
   "execution_count": 0,
   "metadata": {
    "colab": {},
    "colab_type": "code",
    "id": "lvqiVL5TJDz_"
   },
   "outputs": [],
   "source": [
    "count_star[business[:30].index]"
   ]
  },
  {
   "cell_type": "code",
   "execution_count": 0,
   "metadata": {
    "colab": {},
    "colab_type": "code",
    "id": "WEmNxUh4JD0F",
    "scrolled": true
   },
   "outputs": [],
   "source": [
    "count_star.sort_values()"
   ]
  },
  {
   "cell_type": "code",
   "execution_count": 0,
   "metadata": {
    "colab": {},
    "colab_type": "code",
    "id": "SemU68pgJDzs"
   },
   "outputs": [],
   "source": [
    "sample=data[data['business_id']=='WnS-PoJcV30ctM68vs9wXw']"
   ]
  },
  {
   "cell_type": "code",
   "execution_count": 0,
   "metadata": {
    "colab": {},
    "colab_type": "code",
    "id": "obaBP4z-JDzx",
    "scrolled": false
   },
   "outputs": [],
   "source": [
    "fig3 = sns.FacetGrid(data=sample, col='stars')\n",
    "fig3.map(plt.hist, 'polar', bins=50)"
   ]
  }
 ],
 "metadata": {
  "colab": {
   "name": "sentiment analysis & stars.ipynb",
   "provenance": []
  },
  "kernelspec": {
   "display_name": "Python 3",
   "language": "python",
   "name": "python3"
  },
  "language_info": {
   "codemirror_mode": {
    "name": "ipython",
    "version": 3
   },
   "file_extension": ".py",
   "mimetype": "text/x-python",
   "name": "python",
   "nbconvert_exporter": "python",
   "pygments_lexer": "ipython3",
   "version": "3.7.4"
  },
  "toc": {
   "base_numbering": 1,
   "nav_menu": {},
   "number_sections": true,
   "sideBar": true,
   "skip_h1_title": false,
   "title_cell": "Table of Contents",
   "title_sidebar": "Contents",
   "toc_cell": false,
   "toc_position": {
    "height": "calc(100% - 180px)",
    "left": "10px",
    "top": "150px",
    "width": "165px"
   },
   "toc_section_display": true,
   "toc_window_display": false
  }
 },
 "nbformat": 4,
 "nbformat_minor": 1
}
